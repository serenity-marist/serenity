{
 "cells": [
  {
   "cell_type": "code",
   "execution_count": 4,
   "metadata": {},
   "outputs": [
    {
     "name": "stdout",
     "output_type": "stream",
     "text": [
      "Requirement already satisfied: selenium in /anaconda3/lib/python3.6/site-packages (3.14.0)\n",
      "Requirement already satisfied: urllib3 in /anaconda3/lib/python3.6/site-packages (from selenium) (1.22)\n",
      "\u001b[31mdistributed 1.21.8 requires msgpack, which is not installed.\u001b[0m\n",
      "\u001b[33mYou are using pip version 10.0.1, however version 18.1 is available.\n",
      "You should consider upgrading via the 'pip install --upgrade pip' command.\u001b[0m\n"
     ]
    }
   ],
   "source": [
    "!pip install selenium"
   ]
  },
  {
   "cell_type": "code",
   "execution_count": 5,
   "metadata": {},
   "outputs": [],
   "source": [
    "import pandas as pd \n",
    "import os\n",
    "import re \n",
    "import numpy as np\n",
    "import datetime\n",
    "import sys\n",
    "import settings\n",
    "import json\n",
    "from selenium.common.exceptions import NoSuchElementException\n",
    "\n",
    "from bs4 import BeautifulSoup \n",
    "from selenium import webdriver\n",
    "from selenium.webdriver.common.by import By\n",
    "from selenium.webdriver.support.ui import WebDriverWait\n",
    "from selenium.webdriver.common.keys import Keys\n",
    "from selenium.webdriver.support import expected_conditions as EC\n",
    "\n",
    "driver = webdriver.Chrome(executable_path='/Users/arielcamilo/workspace/Senior Year/Fall Semester/Capping/serenity/chromedriver')"
   ]
  },
  {
   "cell_type": "code",
   "execution_count": 6,
   "metadata": {},
   "outputs": [],
   "source": [
    "url = \"https://degreeworks.banner.marist.edu/dashboard/dashboard\"\n",
    "driver.get(url)"
   ]
  },
  {
   "cell_type": "code",
   "execution_count": 7,
   "metadata": {},
   "outputs": [],
   "source": [
    "#driver.implicitly_wait(5)\n",
    "contFrame = driver.find_element_by_css_selector('html > frameset > frame:nth-child(4)')\n",
    "driver.switch_to.frame(contFrame)\n",
    "#frBC = driver.find_element_by_xpath('/html/frameset')\n",
    "bodyFrame = driver.find_element_by_name('frBody')\n",
    "driver.switch_to.frame(bodyFrame)"
   ]
  },
  {
   "cell_type": "code",
   "execution_count": 8,
   "metadata": {},
   "outputs": [],
   "source": [
    "html = driver.page_source\n",
    "soup = BeautifulSoup(html, \"html5lib\")"
   ]
  },
  {
   "cell_type": "code",
   "execution_count": 9,
   "metadata": {},
   "outputs": [],
   "source": [
    "#taking majors titles, minor titles, pathway\n",
    "headTitles = soup.find_all(\"td\", attrs={\"class\": \"BlockHeadTitle\"})\n",
    "headTitle = []\n",
    "for head in headTitles:\n",
    "    headTitle.append(head.text)\n",
    "\n",
    "majorArray = [x for x in headTitle if 'Major' in x]\n",
    "concentrations = [x for x in headTitle if 'Concentration' in x]\n",
    "minorArray = [x for x in headTitle if 'Minor' in x]\n",
    "degreeName = [x for x in headTitle if 'Degree' in x]\n",
    "pwayName = [x for x in headTitle if 'Pathway' in x][0]"
   ]
  },
  {
   "cell_type": "code",
   "execution_count": 10,
   "metadata": {},
   "outputs": [
    {
     "data": {
      "text/plain": [
       "['Degree in Bachelor of Science',\n",
       " 'Major in Computer Science',\n",
       " 'Concentration in Software Development',\n",
       " 'Minor in Information Systems',\n",
       " 'Minor in Information Technology']"
      ]
     },
     "execution_count": 10,
     "metadata": {},
     "output_type": "execute_result"
    }
   ],
   "source": [
    "#check the above variables\n",
    "creditTitles = []\n",
    "creditTitles = degreeName + majorArray + concentrations + minorArray \n",
    "creditTitles"
   ]
  },
  {
   "cell_type": "code",
   "execution_count": 11,
   "metadata": {},
   "outputs": [
    {
     "data": {
      "text/plain": [
       "['Minor in Information Systems', 'Minor in Information Technology']"
      ]
     },
     "execution_count": 11,
     "metadata": {},
     "output_type": "execute_result"
    }
   ],
   "source": [
    "minorArray"
   ]
  },
  {
   "cell_type": "code",
   "execution_count": 12,
   "metadata": {},
   "outputs": [],
   "source": [
    "jsonObjects = []"
   ]
  },
  {
   "cell_type": "code",
   "execution_count": 13,
   "metadata": {},
   "outputs": [],
   "source": [
    "#code for required courses \n",
    "def req(soup):\n",
    "    reqStrings = soup.find_all(\"td\", attrs={\"class\": \"RuleLabelTitleNeeded\"})\n",
    "\n",
    "    reqCourses = []\n",
    "    for reqString in reqStrings:\n",
    "        reqCourses.append(reqString.text)\n",
    "\n",
    "    coreReqs = [x for x in reqCourses if '3 credits' in x]\n",
    "    #coreReqs\n",
    "    \n",
    "    if not coreReqs:\n",
    "        return\n",
    "    else: \n",
    "        coreRTitle = []\n",
    "        for x in coreReqs:\n",
    "            coreRTitle.append(\"Core Class Required\")\n",
    "        coreDict = dict(zip(coreRTitle, coreReqs))\n",
    "        coreDict = json.dumps(coreDict)\n",
    "\n",
    "    return coreDict\n",
    "\n",
    "# jsonObjects.append(req(soup))\n",
    "# jsonObjects\n",
    "# req(soup)\n",
    "jsonObjects.append(req(soup))"
   ]
  },
  {
   "cell_type": "code",
   "execution_count": 14,
   "metadata": {},
   "outputs": [],
   "source": [
    "#HONORS! Special case \n",
    "# css selector for honors frame : frmAudit > table:nth-child(38) > tbody > tr > td > table"
   ]
  },
  {
   "cell_type": "code",
   "execution_count": 15,
   "metadata": {},
   "outputs": [],
   "source": [
    "# try: \n",
    "#     pathwayClassesDri = driver.find_element_by_css_selector('#frmAudit > table:nth-child(28) > tbody > tr > td > table > tbody > tr:nth-child(5) > td.RuleLabelData > table')\n",
    "#     pathwaySoup = BeautifulSoup(pathwayClassesDri.get_attribute('innerHTML'), \"html5lib\")\n",
    "#     pathwayTable = pathwaySoup.find_all('tabler')\n",
    "# except NoSuchElementException as exception:\n",
    "#     print(\"Hi\")\n",
    "    \n",
    "    \n",
    "try:\n",
    "    pathwayClassesDri = driver.find_element_by_css_selector('#frmAudit > table:nth-child(28) > tbody > tr > td > table > tbody > tr:nth-child(5) > td.RuleLabelData > table')\n",
    "except NoSuchElementException:\n",
    "    print(\"No Pathway available\") \n",
    "pathwaySoup = BeautifulSoup(pathwayClassesDri.get_attribute('innerHTML'), \"html5lib\")\n",
    "pathwayTable = pathwaySoup.find_all('table')[0]\n",
    "    \n",
    "\n",
    "    \n",
    "        \n"
   ]
  },
  {
   "cell_type": "code",
   "execution_count": 16,
   "metadata": {},
   "outputs": [
    {
     "data": {
      "text/plain": [
       "['{\"Core Class Required\": \"3 credits in Natural Science\"}']"
      ]
     },
     "execution_count": 16,
     "metadata": {},
     "output_type": "execute_result"
    }
   ],
   "source": [
    "jsonObjects"
   ]
  },
  {
   "cell_type": "code",
   "execution_count": 17,
   "metadata": {},
   "outputs": [
    {
     "data": {
      "text/plain": [
       "{'Student': 'Camilo, Ariel L',\n",
       " 'ID': '20066775',\n",
       " 'Classification': 'Junior',\n",
       " 'Advisor': 'Cannistra, Robert M',\n",
       " 'Overall GPA': '2.463',\n",
       " 'Student Type': 'Traditional Continuing',\n",
       " 'Term Location': 'Poughkeepsie',\n",
       " 'Level': 'Undergraduate',\n",
       " 'Degree': 'B.S.',\n",
       " 'College': 'Computer Science & Mathematics',\n",
       " 'Major': 'Computer Science',\n",
       " 'Concentration': 'CompSci: Software Development',\n",
       " 'Minor': 'Information SystemsInformation Technology'}"
      ]
     },
     "execution_count": 17,
     "metadata": {},
     "output_type": "execute_result"
    }
   ],
   "source": [
    "from math import isnan\n",
    "\n",
    "def studentInfoScrape(soup):\n",
    "  studentTable = soup.find(\"table\", attrs={\"class\": \"Inner\"})\n",
    "\n",
    "  studentInfoDf = pd.read_html(str(studentTable))[0]\n",
    "\n",
    "  primValue = list(studentInfoDf[0])\n",
    "  primInfo = list(studentInfoDf[1])\n",
    "  secondColumn = list(studentInfoDf[2])\n",
    "  thirdColumn = list(studentInfoDf[3])\n",
    "\n",
    "  finalValue = primValue + secondColumn # resulting array\n",
    "  finalInfo = primInfo + thirdColumn    # resulting array\n",
    "  finalInfo = [x for x in finalInfo if str(x) != 'nan']\n",
    "  finalValue = [x for x in finalValue if str(x) != 'nan']\n",
    "  #Vstacked dataframe if converted to a json file\n",
    "    # studentInfo = np.vstack((finalValue, finalInfo)).T\n",
    "    # studentInfo = studentInfo.tolist()\n",
    "\n",
    "    # studentInfoFinalDf = pd.DataFrame(studentInfo,columns=['Values', 'Infor'])\n",
    "    #studentInfoFinalDf\n",
    "\n",
    "    # studentInfoFileJSON = 'SerenityStudentInfo.json'\n",
    "  studentDict = dict(zip(finalValue, finalInfo))\n",
    "\n",
    "#   exception handling for the s added to a major minor advisor value with more than one \n",
    "  if 'Advisors' in studentDict:\n",
    "    studentDict['Advisor'] = studentDict['Advisors']\n",
    "    del studentDict['Advisors']\n",
    "\n",
    "  if 'Majors' in studentDict:\n",
    "    studentDict['Major'] = studentDict['Majors']\n",
    "    del studentDict['Majors']\n",
    "    \n",
    "  if 'Minors' in studentDict:\n",
    "    studentDict['Minor'] = studentDict['Minors']\n",
    "    del studentDict['Minors']\n",
    "    \n",
    "  return studentDict\n",
    "\n",
    "################# END STUDENT VIEW SCRAPE #################\n",
    "\n",
    "##Calling the function to get student info!!\n",
    "studentInfoScrape(soup)"
   ]
  },
  {
   "cell_type": "code",
   "execution_count": 18,
   "metadata": {},
   "outputs": [
    {
     "data": {
      "text/plain": [
       "'Fall 2018'"
      ]
     },
     "execution_count": 18,
     "metadata": {},
     "output_type": "execute_result"
    }
   ],
   "source": [
    "semYear = datetime.date.today().year\n",
    "semMonth = datetime.date.today().month\n",
    "semSsn = \"\"\n",
    "\n",
    "if (semMonth >= 1 and semMonth <= 5):\n",
    "  semSsn = \"Spring\"\n",
    "elif (semMonth >= 6 and semMonth <= 8):\n",
    "  semSsn = \"Summer\"\n",
    "elif (semMonth >= 9 and semMonth <= 12):\n",
    "  semSsn = \"Fall\"\n",
    "elif (semMonth == 1):\n",
    "  semSsn = \"Winter\"\n",
    "\n",
    "semSsn + \" \" + str(semYear)"
   ]
  },
  {
   "cell_type": "code",
   "execution_count": 19,
   "metadata": {},
   "outputs": [
    {
     "data": {
      "text/plain": [
       "['{\"Core Class Required\": \"3 credits in Natural Science\"}',\n",
       " [{'Current Course No': 'BUS 100N',\n",
       "   'Current Course Title': 'INTRO BUS & MGT',\n",
       "   'Current Credit Value': '3'},\n",
       "  {'Current Course No': 'CMPT 305L',\n",
       "   'Current Course Title': 'TECNOLOGY,ETHICS,+SOCIETY',\n",
       "   'Current Credit Value': '3'},\n",
       "  {'Current Course No': 'CMPT 307N',\n",
       "   'Current Course Title': 'INTERNETWORKING',\n",
       "   'Current Credit Value': '4'},\n",
       "  {'Current Course No': 'CMPT 475N',\n",
       "   'Current Course Title': 'CS PROJECT',\n",
       "   'Current Credit Value': '3'},\n",
       "  {'Current Course No': 'CMPT 476N',\n",
       "   'Current Course Title': 'CS PROJECT II',\n",
       "   'Current Credit Value': '1'},\n",
       "  {'Current Course No': 'ENG 222L',\n",
       "   'Current Course Title': 'INTRO TO PROFESSIONAL WRITING',\n",
       "   'Current Credit Value': '3'}]]"
      ]
     },
     "execution_count": 19,
     "metadata": {},
     "output_type": "execute_result"
    }
   ],
   "source": [
    "currClassHTML = soup.find_all(\"table\", attrs={\"class\": \"xBlocks\"})\n",
    "\n",
    "if(len(currClassHTML) > 2):\n",
    "    currClassHTML = currClassHTML[2]\n",
    "else:\n",
    "    currClassHTML = currClassHTML[1]\n",
    "\n",
    "# currClassHTML\n",
    "#classNames\n",
    "\n",
    "className = currClassHTML.find_all(\"td\", attrs={\"class\": \"SectionCourseTitle\"})\n",
    "classNames = []\n",
    "\n",
    "for classes in className:\n",
    "    classNames.append(classes.text)\n",
    "    \n",
    "#classNumbers\n",
    "\n",
    "classNo = currClassHTML.find_all(\"td\", attrs={\"class\": \"ClassesAppliedClasses\"})\n",
    "classNos = []\n",
    "\n",
    "for no in classNo:\n",
    "    no = no.text.replace(u'\\xa0', u' ')\n",
    "    classNos.append(no)\n",
    "\n",
    "#creditsEach\n",
    "\n",
    "noCredits = currClassHTML.find_all(\"td\", attrs={\"class\": \"SectionCourseCredits\"})\n",
    "curCredits = []\n",
    "\n",
    "for noCreds in noCredits:\n",
    "    curCredits.append(noCreds.text)\n",
    "    \n",
    "# curCredits\n",
    "currClassDataStack = np.vstack((classNos, classNames, curCredits)).T\n",
    "currClassDataStack = currClassDataStack.tolist()\n",
    "\n",
    "currClassInfoDf = pd.DataFrame(currClassDataStack,columns=['Current Course No', 'Current Course Title', 'Current Credit Value'])\n",
    "# currClassFileCSV = 'SerenityCurrClass.csv'\n",
    "# currClassInfoDf.to_csv(currClassFileCSV, index=False)\n",
    "\n",
    "# studentInfoFileJSON = 'SerenityStudentInfo.json'\n",
    "# studentView.to_json(studentInfoFileJSON)\n",
    "currClassJSON = currClassInfoDf.to_dict(orient='records')\n",
    "jsonObjects.append(currClassJSON)\n",
    "jsonObjects"
   ]
  },
  {
   "cell_type": "code",
   "execution_count": 20,
   "metadata": {},
   "outputs": [],
   "source": [
    "# currClassesDri = driver.find_element_by_css_selector('#frmAudit > table:nth-child(67)')\n",
    "# currClassSoup = BeautifulSoup(currClassesDri.get_attribute('innerHTML'), \"html5lib\")\n",
    "\n",
    "currClassDataStack = np.vstack((classNos, classNames, curCredits)).T\n",
    "currClassDataStack = currClassDataStack.tolist()\n",
    "\n",
    "currClassInfoDf = pd.DataFrame(currClassDataStack,columns=['Course No', 'Course Title', 'Credit Value'])\n",
    "# currClassFileCSV = 'SerenityCurrClass.csv'\n",
    "# currClassInfoDf.to_csv(currClassFileCSV, index=False)\n",
    "\n",
    "# studentInfoFileJSON = 'SerenityStudentInfo.json'\n",
    "# studentView.to_json(studentInfoFileJSON)"
   ]
  },
  {
   "cell_type": "code",
   "execution_count": 21,
   "metadata": {},
   "outputs": [
    {
     "data": {
      "text/plain": [
       "['{\"Core Class Required\": \"3 credits in Natural Science\"}',\n",
       " [{'Current Course No': 'BUS 100N',\n",
       "   'Current Course Title': 'INTRO BUS & MGT',\n",
       "   'Current Credit Value': '3'},\n",
       "  {'Current Course No': 'CMPT 305L',\n",
       "   'Current Course Title': 'TECNOLOGY,ETHICS,+SOCIETY',\n",
       "   'Current Credit Value': '3'},\n",
       "  {'Current Course No': 'CMPT 307N',\n",
       "   'Current Course Title': 'INTERNETWORKING',\n",
       "   'Current Credit Value': '4'},\n",
       "  {'Current Course No': 'CMPT 475N',\n",
       "   'Current Course Title': 'CS PROJECT',\n",
       "   'Current Credit Value': '3'},\n",
       "  {'Current Course No': 'CMPT 476N',\n",
       "   'Current Course Title': 'CS PROJECT II',\n",
       "   'Current Credit Value': '1'},\n",
       "  {'Current Course No': 'ENG 222L',\n",
       "   'Current Course Title': 'INTRO TO PROFESSIONAL WRITING',\n",
       "   'Current Credit Value': '3'}],\n",
       " {'Degree Title': 'Degree in Bachelor of Science',\n",
       "  'Credits Completed': '94',\n",
       "  'Total Needed': '120'},\n",
       " {'Degree Title': 'Concentration in Software Development',\n",
       "  'Credits Completed': '60',\n",
       "  'Total Needed': '64'},\n",
       " {'Degree Title': 'Minor in Information Systems',\n",
       "  'Credits Completed': '19',\n",
       "  'Total Needed': '23'},\n",
       " {'Degree Title': 'Minor in Information Technology',\n",
       "  'Credits Completed': '20',\n",
       "  'Total Needed': '24'}]"
      ]
     },
     "execution_count": 21,
     "metadata": {},
     "output_type": "execute_result"
    }
   ],
   "source": [
    "#This code parses the data on DegreeWorks by td class, BlockHeadSubd\n",
    "#Code parses credits into total and completed arrays\n",
    "subData = soup.find_all(\"td\", attrs={\"class\": \"BlockHeadSubData\"})\n",
    "#dataNP = array of subData that is not parsed, but converted from obj to str\n",
    "subDataNP = []\n",
    "for subD in subData:\n",
    "    subDataNP.append(subD.text)\n",
    "    #objToText\n",
    "\n",
    "#dataP = array subData that is/will be parsed\n",
    "subDataP = []\n",
    "for subDataN in subDataNP:\n",
    "    string = subDataN.split(\"\\xa0 \",1)[1]\n",
    "    if string:\n",
    "        subDataP.append(string)\n",
    "\n",
    "    \n",
    "credits = []\n",
    "\n",
    "for subData in subDataP:\n",
    "    if not any(s in subData for s in ('-', '.')):\n",
    "        credits.append(subData)\n",
    "\n",
    "    \n",
    "creditTitles = []\n",
    "creditTitles = degreeName + majorArray + concentrations + minorArray \n",
    "if (len(creditTitles) * 2 != len(credits)):\n",
    "    creditTitles = degreeName + concentrations + minorArray \n",
    "        \n",
    "        \n",
    "totalCredits = []\n",
    "completedCredits = []\n",
    "i = 0\n",
    "while i < len(credits):\n",
    "    if i % 2 == 0:\n",
    "        totalCredits.append(credits[i])\n",
    "        i += 1\n",
    "    else:\n",
    "        completedCredits.append(credits[i])\n",
    "        i += 1\n",
    "        \n",
    "creditsProgress = np.vstack((creditTitles, completedCredits, totalCredits)).T\n",
    "creditsProgress = creditsProgress.tolist()\n",
    "progressDf = pd.DataFrame(creditsProgress,columns=['Degree Title', 'Credits Completed', 'Total Needed'])\n",
    "progressJSON = progressDf.to_dict(orient='records')\n",
    "\n",
    "for x in progressJSON:\n",
    "    jsonObjects.append(x)\n",
    "jsonObjects"
   ]
  },
  {
   "cell_type": "code",
   "execution_count": 22,
   "metadata": {},
   "outputs": [
    {
     "data": {
      "text/plain": [
       "['120', '94', '64', '60', '23', '19', '24', '20']"
      ]
     },
     "execution_count": 22,
     "metadata": {},
     "output_type": "execute_result"
    }
   ],
   "source": [
    "credits"
   ]
  },
  {
   "cell_type": "code",
   "execution_count": 23,
   "metadata": {},
   "outputs": [],
   "source": [
    "#credit progress data dictionary JSON\n",
    "majMinFileJSON = 'SerenityMajMin.json'\n",
    "progressDf.to_json(majMinFileJSON, orient='records')"
   ]
  },
  {
   "cell_type": "code",
   "execution_count": 25,
   "metadata": {},
   "outputs": [
    {
     "ename": "NameError",
     "evalue": "name 'ppmCountry' is not defined",
     "output_type": "error",
     "traceback": [
      "\u001b[0;31m---------------------------------------------------------------------------\u001b[0m",
      "\u001b[0;31mNameError\u001b[0m                                 Traceback (most recent call last)",
      "\u001b[0;32m<ipython-input-25-3e53115a9878>\u001b[0m in \u001b[0;36m<module>\u001b[0;34m()\u001b[0m\n\u001b[0;32m----> 1\u001b[0;31m \u001b[0mppmInfo\u001b[0m \u001b[0;34m=\u001b[0m \u001b[0mnp\u001b[0m\u001b[0;34m.\u001b[0m\u001b[0mvstack\u001b[0m\u001b[0;34m(\u001b[0m\u001b[0;34m(\u001b[0m\u001b[0mppmCountry\u001b[0m\u001b[0;34m,\u001b[0m \u001b[0mppm\u001b[0m\u001b[0;34m)\u001b[0m\u001b[0;34m)\u001b[0m\u001b[0;34m.\u001b[0m\u001b[0mT\u001b[0m\u001b[0;34m\u001b[0m\u001b[0m\n\u001b[0m\u001b[1;32m      2\u001b[0m \u001b[0mppmInfo\u001b[0m \u001b[0;34m=\u001b[0m \u001b[0mppmInfo\u001b[0m\u001b[0;34m.\u001b[0m\u001b[0mtolist\u001b[0m\u001b[0;34m(\u001b[0m\u001b[0;34m)\u001b[0m\u001b[0;34m\u001b[0m\u001b[0m\n",
      "\u001b[0;31mNameError\u001b[0m: name 'ppmCountry' is not defined"
     ]
    }
   ],
   "source": [
    "ppmInfo = np.vstack((ppmCountry, ppm)).T\n",
    "ppmInfo = ppmInfo.tolist()"
   ]
  },
  {
   "cell_type": "code",
   "execution_count": 26,
   "metadata": {},
   "outputs": [
    {
     "ename": "NameError",
     "evalue": "name 'ppmInfo' is not defined",
     "output_type": "error",
     "traceback": [
      "\u001b[0;31m---------------------------------------------------------------------------\u001b[0m",
      "\u001b[0;31mNameError\u001b[0m                                 Traceback (most recent call last)",
      "\u001b[0;32m<ipython-input-26-f1d53fa03fe5>\u001b[0m in \u001b[0;36m<module>\u001b[0;34m()\u001b[0m\n\u001b[0;32m----> 1\u001b[0;31m \u001b[0mdf\u001b[0m \u001b[0;34m=\u001b[0m \u001b[0mpd\u001b[0m\u001b[0;34m.\u001b[0m\u001b[0mDataFrame\u001b[0m\u001b[0;34m(\u001b[0m\u001b[0mppmInfo\u001b[0m\u001b[0;34m,\u001b[0m\u001b[0mcolumns\u001b[0m\u001b[0;34m=\u001b[0m\u001b[0;34m[\u001b[0m\u001b[0;34m'By country'\u001b[0m\u001b[0;34m,\u001b[0m \u001b[0;34m'Page views per minute'\u001b[0m\u001b[0;34m]\u001b[0m\u001b[0;34m)\u001b[0m\u001b[0;34m\u001b[0m\u001b[0m\n\u001b[0m",
      "\u001b[0;31mNameError\u001b[0m: name 'ppmInfo' is not defined"
     ]
    }
   ],
   "source": [
    "df = pd.DataFrame(ppmInfo,columns=['By country', 'Page views per minute'])"
   ]
  },
  {
   "cell_type": "code",
   "execution_count": 204,
   "metadata": {},
   "outputs": [
    {
     "data": {
      "text/html": [
       "<div>\n",
       "<style scoped>\n",
       "    .dataframe tbody tr th:only-of-type {\n",
       "        vertical-align: middle;\n",
       "    }\n",
       "\n",
       "    .dataframe tbody tr th {\n",
       "        vertical-align: top;\n",
       "    }\n",
       "\n",
       "    .dataframe thead th {\n",
       "        text-align: right;\n",
       "    }\n",
       "</style>\n",
       "<table border=\"1\" class=\"dataframe\">\n",
       "  <thead>\n",
       "    <tr style=\"text-align: right;\">\n",
       "      <th></th>\n",
       "      <th>By country</th>\n",
       "      <th>Page views per minute</th>\n",
       "    </tr>\n",
       "  </thead>\n",
       "  <tbody>\n",
       "    <tr>\n",
       "      <th>0</th>\n",
       "      <td>GB</td>\n",
       "      <td>0.0176</td>\n",
       "    </tr>\n",
       "    <tr>\n",
       "      <th>1</th>\n",
       "      <td>US</td>\n",
       "      <td>0.011</td>\n",
       "    </tr>\n",
       "    <tr>\n",
       "      <th>2</th>\n",
       "      <td>IE</td>\n",
       "      <td>0.00347</td>\n",
       "    </tr>\n",
       "    <tr>\n",
       "      <th>3</th>\n",
       "      <td>DE</td>\n",
       "      <td>0.00288</td>\n",
       "    </tr>\n",
       "    <tr>\n",
       "      <th>4</th>\n",
       "      <td>AT</td>\n",
       "      <td>0.00278</td>\n",
       "    </tr>\n",
       "    <tr>\n",
       "      <th>5</th>\n",
       "      <td>BR</td>\n",
       "      <td>0.00198</td>\n",
       "    </tr>\n",
       "    <tr>\n",
       "      <th>6</th>\n",
       "      <td>SK</td>\n",
       "      <td>0.00169</td>\n",
       "    </tr>\n",
       "    <tr>\n",
       "      <th>7</th>\n",
       "      <td>HU</td>\n",
       "      <td>0.00139</td>\n",
       "    </tr>\n",
       "    <tr>\n",
       "      <th>8</th>\n",
       "      <td>RU</td>\n",
       "      <td>0.00129</td>\n",
       "    </tr>\n",
       "    <tr>\n",
       "      <th>9</th>\n",
       "      <td>VE</td>\n",
       "      <td>0.000794</td>\n",
       "    </tr>\n",
       "    <tr>\n",
       "      <th>10</th>\n",
       "      <td>NL</td>\n",
       "      <td>0.000496</td>\n",
       "    </tr>\n",
       "    <tr>\n",
       "      <th>11</th>\n",
       "      <td>CL</td>\n",
       "      <td>0.000397</td>\n",
       "    </tr>\n",
       "    <tr>\n",
       "      <th>12</th>\n",
       "      <td>CH</td>\n",
       "      <td>0.000298</td>\n",
       "    </tr>\n",
       "    <tr>\n",
       "      <th>13</th>\n",
       "      <td>ES</td>\n",
       "      <td>0.000298</td>\n",
       "    </tr>\n",
       "    <tr>\n",
       "      <th>14</th>\n",
       "      <td>JP</td>\n",
       "      <td>0.000198</td>\n",
       "    </tr>\n",
       "    <tr>\n",
       "      <th>15</th>\n",
       "      <td>MY</td>\n",
       "      <td>0.0000992</td>\n",
       "    </tr>\n",
       "    <tr>\n",
       "      <th>16</th>\n",
       "      <td>SE</td>\n",
       "      <td>0.0000992</td>\n",
       "    </tr>\n",
       "  </tbody>\n",
       "</table>\n",
       "</div>"
      ],
      "text/plain": [
       "   By country Page views per minute\n",
       "0          GB                0.0176\n",
       "1          US                 0.011\n",
       "2          IE               0.00347\n",
       "3          DE               0.00288\n",
       "4          AT               0.00278\n",
       "5          BR               0.00198\n",
       "6          SK               0.00169\n",
       "7          HU               0.00139\n",
       "8          RU               0.00129\n",
       "9          VE              0.000794\n",
       "10         NL              0.000496\n",
       "11         CL              0.000397\n",
       "12         CH              0.000298\n",
       "13         ES              0.000298\n",
       "14         JP              0.000198\n",
       "15         MY             0.0000992\n",
       "16         SE             0.0000992"
      ]
     },
     "execution_count": 204,
     "metadata": {},
     "output_type": "execute_result"
    }
   ],
   "source": [
    "df"
   ]
  }
 ],
 "metadata": {
  "kernelspec": {
   "display_name": "Python 3",
   "language": "python",
   "name": "python3"
  },
  "language_info": {
   "codemirror_mode": {
    "name": "ipython",
    "version": 3
   },
   "file_extension": ".py",
   "mimetype": "text/x-python",
   "name": "python",
   "nbconvert_exporter": "python",
   "pygments_lexer": "ipython3",
   "version": "3.6.5"
  }
 },
 "nbformat": 4,
 "nbformat_minor": 2
}
