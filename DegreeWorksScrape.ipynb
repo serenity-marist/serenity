{
 "cells": [
  {
   "cell_type": "code",
   "execution_count": 1,
   "metadata": {},
   "outputs": [],
   "source": [
    "import pandas as pd \n",
    "import os"
   ]
  },
  {
   "cell_type": "code",
   "execution_count": 2,
   "metadata": {},
   "outputs": [
    {
     "name": "stdout",
     "output_type": "stream",
     "text": [
      "Requirement already satisfied: selenium in /Users/AlexaJ/anaconda3/lib/python3.6/site-packages (3.14.0)\n",
      "Requirement already satisfied: urllib3 in /Users/AlexaJ/anaconda3/lib/python3.6/site-packages (from selenium) (1.22)\n",
      "\u001b[31mdistributed 1.21.8 requires msgpack, which is not installed.\u001b[0m\n",
      "\u001b[33mYou are using pip version 10.0.1, however version 18.0 is available.\n",
      "You should consider upgrading via the 'pip install --upgrade pip' command.\u001b[0m\n"
     ]
    }
   ],
   "source": [
    "!pip install selenium"
   ]
  },
  {
   "cell_type": "code",
   "execution_count": 3,
   "metadata": {},
   "outputs": [],
   "source": [
    "import pandas as pd \n",
    "import os\n",
    "import re \n",
    "import numpy as np\n",
    "\n",
    "\n",
    "from bs4 import BeautifulSoup \n",
    "from selenium import webdriver\n",
    "from selenium.webdriver.common.by import By\n",
    "from selenium.webdriver.support.ui import WebDriverWait\n",
    "from selenium.webdriver.common.keys import Keys\n",
    "from selenium.webdriver.support import expected_conditions as EC\n",
    "\n",
    "driver = webdriver.Chrome(executable_path='/Users/alexaj/anaconda3/bin/chromedriver')"
   ]
  },
  {
   "cell_type": "code",
   "execution_count": 4,
   "metadata": {},
   "outputs": [],
   "source": [
    "url = \"https://degreeworks.banner.marist.edu/dashboard/dashboard\"\n",
    "driver.get(url)"
   ]
  },
  {
   "cell_type": "code",
   "execution_count": 5,
   "metadata": {},
   "outputs": [],
   "source": [
    "#driver.implicitly_wait(5)\n",
    "contFrame = driver.find_element_by_css_selector('html > frameset > frame:nth-child(4)')\n",
    "driver.switch_to.frame(contFrame)\n",
    "#frBC = driver.find_element_by_xpath('/html/frameset')\n",
    "bodyFrame = driver.find_element_by_name('frBody')\n",
    "driver.switch_to.frame(bodyFrame)"
   ]
  },
  {
   "cell_type": "code",
   "execution_count": 6,
   "metadata": {},
   "outputs": [],
   "source": [
    "html = driver.page_source\n",
    "soup = BeautifulSoup(html, \"html5lib\")"
   ]
  },
  {
   "cell_type": "code",
   "execution_count": 6,
   "metadata": {},
   "outputs": [],
   "source": [
    "#bodyCode\n",
    "relevant = soup.find_all(\"form\", attrs={\"name\": \"frmAudit\"})"
   ]
  },
  {
   "cell_type": "code",
   "execution_count": 7,
   "metadata": {},
   "outputs": [
    {
     "data": {
      "text/html": [
       "<div>\n",
       "<style scoped>\n",
       "    .dataframe tbody tr th:only-of-type {\n",
       "        vertical-align: middle;\n",
       "    }\n",
       "\n",
       "    .dataframe tbody tr th {\n",
       "        vertical-align: top;\n",
       "    }\n",
       "\n",
       "    .dataframe thead th {\n",
       "        text-align: right;\n",
       "    }\n",
       "</style>\n",
       "<table border=\"1\" class=\"dataframe\">\n",
       "  <thead>\n",
       "    <tr style=\"text-align: right;\">\n",
       "      <th></th>\n",
       "      <th>Core Requirement</th>\n",
       "    </tr>\n",
       "  </thead>\n",
       "  <tbody>\n",
       "    <tr>\n",
       "      <th>0</th>\n",
       "      <td>3 credits Ethics/Applied Ethics/Religious Studies</td>\n",
       "    </tr>\n",
       "  </tbody>\n",
       "</table>\n",
       "</div>"
      ],
      "text/plain": [
       "                                    Core Requirement\n",
       "0  3 credits Ethics/Applied Ethics/Religious Studies"
      ]
     },
     "execution_count": 7,
     "metadata": {},
     "output_type": "execute_result"
    }
   ],
   "source": [
    "#code for required courses \n",
    "reqStrings = soup.find_all(\"td\", attrs={\"class\": \"RuleLabelTitleNeeded\"})\n",
    "\n",
    "reqCourses = []\n",
    "for reqString in reqStrings:\n",
    "    req = reqString.decode_contents(formatter=\"html\")\n",
    "    reqCourses.append(req)\n",
    "\n",
    "coreReqs = [x for x in reqCourses if '3 credits' in x]\n",
    "#coreReqs\n",
    "coreReqDf = pd.DataFrame(coreReqs)\n",
    "coreReqDf.columns = ['Core Requirement']\n",
    "coreReqDf"
   ]
  },
  {
   "cell_type": "code",
   "execution_count": 8,
   "metadata": {},
   "outputs": [
    {
     "data": {
      "text/html": [
       "<div>\n",
       "<style scoped>\n",
       "    .dataframe tbody tr th:only-of-type {\n",
       "        vertical-align: middle;\n",
       "    }\n",
       "\n",
       "    .dataframe tbody tr th {\n",
       "        vertical-align: top;\n",
       "    }\n",
       "\n",
       "    .dataframe thead th {\n",
       "        text-align: right;\n",
       "    }\n",
       "</style>\n",
       "<table border=\"1\" class=\"dataframe\">\n",
       "  <thead>\n",
       "    <tr style=\"text-align: right;\">\n",
       "      <th></th>\n",
       "      <th>0</th>\n",
       "    </tr>\n",
       "  </thead>\n",
       "  <tbody>\n",
       "    <tr>\n",
       "      <th>Student</th>\n",
       "      <td>Javellana, Alexa</td>\n",
       "    </tr>\n",
       "    <tr>\n",
       "      <th>Level</th>\n",
       "      <td>Undergraduate</td>\n",
       "    </tr>\n",
       "    <tr>\n",
       "      <th>ID</th>\n",
       "      <td>20068940</td>\n",
       "    </tr>\n",
       "    <tr>\n",
       "      <th>Degree</th>\n",
       "      <td>B.S. &amp;nbsp;</td>\n",
       "    </tr>\n",
       "    <tr>\n",
       "      <th>Classification</th>\n",
       "      <td>Junior &amp;nbsp;</td>\n",
       "    </tr>\n",
       "    <tr>\n",
       "      <th>College</th>\n",
       "      <td>Computer Science &amp;amp; Mathematics</td>\n",
       "    </tr>\n",
       "    <tr>\n",
       "      <th>Advisor</th>\n",
       "      <td>\\n&lt;a href=\"mailto:Robert.Cannistra@marist.edu?...</td>\n",
       "    </tr>\n",
       "    <tr>\n",
       "      <th>Major</th>\n",
       "      <td>Computer Science</td>\n",
       "    </tr>\n",
       "    <tr>\n",
       "      <th>Overall GPA</th>\n",
       "      <td>3.476</td>\n",
       "    </tr>\n",
       "    <tr>\n",
       "      <th>Minor</th>\n",
       "      <td>Math</td>\n",
       "    </tr>\n",
       "    <tr>\n",
       "      <th>Student Type</th>\n",
       "      <td>Traditional Continuing</td>\n",
       "    </tr>\n",
       "    <tr>\n",
       "      <th>Concentration</th>\n",
       "      <td>CompSci: Software Development</td>\n",
       "    </tr>\n",
       "    <tr>\n",
       "      <th>Term Location</th>\n",
       "      <td>Poughkeepsie</td>\n",
       "    </tr>\n",
       "    <tr>\n",
       "      <th></th>\n",
       "      <td></td>\n",
       "    </tr>\n",
       "  </tbody>\n",
       "</table>\n",
       "</div>"
      ],
      "text/plain": [
       "                                                                0\n",
       "Student                                          Javellana, Alexa\n",
       "Level                                               Undergraduate\n",
       "ID                                                       20068940\n",
       "Degree                                               B.S. &nbsp; \n",
       "Classification                                     Junior &nbsp; \n",
       "College                        Computer Science &amp; Mathematics\n",
       "Advisor         \\n<a href=\"mailto:Robert.Cannistra@marist.edu?...\n",
       "Major                                            Computer Science\n",
       "Overall GPA                                                 3.476\n",
       "Minor                                                        Math\n",
       "Student Type                               Traditional Continuing\n",
       "Concentration                       CompSci: Software Development\n",
       "Term Location                                        Poughkeepsie\n",
       "                                                                 "
      ]
     },
     "execution_count": 8,
     "metadata": {},
     "output_type": "execute_result"
    }
   ],
   "source": [
    "#Code for scraped data from Student View information\n",
    "studentTable = soup.find(\"table\", attrs={\"class\": \"Inner\"})\n",
    "studentDataTag = studentTable.findAll('td')\n",
    "\n",
    "studentData = []\n",
    "\n",
    "for data in studentDataTag:\n",
    "    #Below one line extracts data \n",
    "    string = data.decode_contents(formatter=\"html\")\n",
    "    studentData.append(string)\n",
    "\n",
    "#studentData\n",
    "#studentTitle = studentData[::2]\n",
    "#studentD = studentData[1::2]\n",
    "#studentTitle\n",
    "keyVal = dict(zip(studentData[::2], studentData[1::2]))\n",
    "studentView = pd.DataFrame.from_dict(keyVal, orient='index')\n",
    "studentView"
   ]
  },
  {
   "cell_type": "code",
   "execution_count": 87,
   "metadata": {},
   "outputs": [],
   "source": [
    "#transfer this dataframe into a CSV\n",
    "filename = 'SerenityStudentInfo.csv'\n",
    "studentView.to_csv(filename, index=False)"
   ]
  },
  {
   "cell_type": "code",
   "execution_count": 9,
   "metadata": {},
   "outputs": [],
   "source": [
    "#This code parses the data on DegreeWorks by td class, BlockHeadTitle. \n",
    "#Used to correlate the data parsed from BlockHeadSubData involving credits to it's major/minor\n",
    "headTitle = soup.find_all(\"td\", attrs={\"class\": \"BlockHeadTitle\"})\n",
    "#subTitle\n",
    "headTitleP = []\n",
    "for headT in headTitle:\n",
    "    string = headT.getText()\n",
    "    headTitleP.append(string)\n",
    "#headTitleP\n",
    "\n",
    "creditTitles = []\n",
    "for headTitle in headTitleP:\n",
    "    if any(s in headTitle for s in ('Degree', 'Major', 'Minor')):\n",
    "        creditTitles.append(headTitle)\n",
    "\n",
    "#titlesDF = pd.DataFrame(creditTitles)\n",
    "#titlesDF.columns = ['Title']\n",
    "#titlesDF"
   ]
  },
  {
   "cell_type": "code",
   "execution_count": 10,
   "metadata": {},
   "outputs": [],
   "source": [
    "#This code parses the data on DegreeWorks by td class, BlockHeadSubd\n",
    "#Code parses credits into total and completed arrays\n",
    "\n",
    "subData = soup.find_all(\"td\", attrs={\"class\": \"BlockHeadSubData\"})\n",
    "#dataNP = array of subData that is not parsed, but converted from obj to str\n",
    "subDataNP = []\n",
    "for subD in subData:\n",
    "    string = subD.getText()\n",
    "    subDataNP.append(string)\n",
    "    #objToText\n",
    "\n",
    "#dataP = array subData that is/will be parsed\n",
    "subDataP = []\n",
    "for subDataN in subDataNP:\n",
    "    string = subDataN.split(\"\\xa0 \",1)[1]\n",
    "    if string:\n",
    "        subDataP.append(string)\n",
    "#subDataP\n",
    "    \n",
    "credits = []\n",
    "\n",
    "for subData in subDataP:\n",
    "    if not any(s in subData for s in ('-', '.')):\n",
    "        credits.append(subData)\n",
    "\n",
    "totalCredits = []\n",
    "completedCredits = []\n",
    "i = 0\n",
    "while i < len(credits):\n",
    "    if i % 2 == 0:\n",
    "        totalCredits.append(credits[i])\n",
    "        i += 1\n",
    "    else:\n",
    "        completedCredits.append(credits[i])\n",
    "        i += 1"
   ]
  },
  {
   "cell_type": "code",
   "execution_count": 11,
   "metadata": {},
   "outputs": [
    {
     "data": {
      "text/html": [
       "<div>\n",
       "<style scoped>\n",
       "    .dataframe tbody tr th:only-of-type {\n",
       "        vertical-align: middle;\n",
       "    }\n",
       "\n",
       "    .dataframe tbody tr th {\n",
       "        vertical-align: top;\n",
       "    }\n",
       "\n",
       "    .dataframe thead th {\n",
       "        text-align: right;\n",
       "    }\n",
       "</style>\n",
       "<table border=\"1\" class=\"dataframe\">\n",
       "  <thead>\n",
       "    <tr style=\"text-align: right;\">\n",
       "      <th></th>\n",
       "      <th>Title</th>\n",
       "      <th>Credits Completed</th>\n",
       "      <th>Total Needed</th>\n",
       "    </tr>\n",
       "  </thead>\n",
       "  <tbody>\n",
       "    <tr>\n",
       "      <th>0</th>\n",
       "      <td>Degree in Bachelor of Science</td>\n",
       "      <td>104</td>\n",
       "      <td>120</td>\n",
       "    </tr>\n",
       "    <tr>\n",
       "      <th>1</th>\n",
       "      <td>Major in Computer Science</td>\n",
       "      <td>64</td>\n",
       "      <td>67</td>\n",
       "    </tr>\n",
       "    <tr>\n",
       "      <th>2</th>\n",
       "      <td>Minor in Math</td>\n",
       "      <td>8</td>\n",
       "      <td>18</td>\n",
       "    </tr>\n",
       "  </tbody>\n",
       "</table>\n",
       "</div>"
      ],
      "text/plain": [
       "                           Title Credits Completed Total Needed\n",
       "0  Degree in Bachelor of Science               104          120\n",
       "1      Major in Computer Science                64           67\n",
       "2                  Minor in Math                 8           18"
      ]
     },
     "execution_count": 11,
     "metadata": {},
     "output_type": "execute_result"
    }
   ],
   "source": [
    "#Combined arrays to a credit progress table \n",
    "#creditTitles, completed, total arrays\n",
    "creditsProgress = np.vstack((creditTitles, completedCredits, totalCredits)).T\n",
    "creditsProgress = creditsProgress.tolist()\n",
    "progressDf = pd.DataFrame(creditsProgress,columns=['Title', 'Credits Completed', 'Total Needed'])\n",
    "progressDf"
   ]
  },
  {
   "cell_type": "code",
   "execution_count": 17,
   "metadata": {},
   "outputs": [],
   "source": [
    "ppmDatas = soup.find_all(\"span\", attrs={\"class\": \"item_count\"})\n",
    "ppmNames = soup.find_all(\"span\", attrs={\"class\": \"item_name\"})"
   ]
  },
  {
   "cell_type": "code",
   "execution_count": 13,
   "metadata": {},
   "outputs": [
    {
     "ename": "NameError",
     "evalue": "name 'ppmDatas' is not defined",
     "output_type": "error",
     "traceback": [
      "\u001b[0;31m---------------------------------------------------------------------------\u001b[0m",
      "\u001b[0;31mNameError\u001b[0m                                 Traceback (most recent call last)",
      "\u001b[0;32m<ipython-input-13-0d860fb2acb1>\u001b[0m in \u001b[0;36m<module>\u001b[0;34m()\u001b[0m\n\u001b[1;32m      1\u001b[0m \u001b[0mppm\u001b[0m \u001b[0;34m=\u001b[0m \u001b[0;34m[\u001b[0m\u001b[0;34m]\u001b[0m\u001b[0;34m\u001b[0m\u001b[0m\n\u001b[0;32m----> 2\u001b[0;31m \u001b[0;32mfor\u001b[0m \u001b[0mppmData\u001b[0m \u001b[0;32min\u001b[0m \u001b[0mppmDatas\u001b[0m\u001b[0;34m:\u001b[0m\u001b[0;34m\u001b[0m\u001b[0m\n\u001b[0m\u001b[1;32m      3\u001b[0m   \u001b[0msep\u001b[0m \u001b[0;34m=\u001b[0m \u001b[0;34m' '\u001b[0m\u001b[0;34m\u001b[0m\u001b[0m\n\u001b[1;32m      4\u001b[0m   \u001b[0mrest\u001b[0m \u001b[0;34m=\u001b[0m \u001b[0mppmData\u001b[0m\u001b[0;34m.\u001b[0m\u001b[0mtext\u001b[0m\u001b[0;34m.\u001b[0m\u001b[0msplit\u001b[0m\u001b[0;34m(\u001b[0m\u001b[0msep\u001b[0m\u001b[0;34m,\u001b[0m \u001b[0;36m1\u001b[0m\u001b[0;34m)\u001b[0m\u001b[0;34m[\u001b[0m\u001b[0;36m0\u001b[0m\u001b[0;34m]\u001b[0m\u001b[0;34m\u001b[0m\u001b[0m\n\u001b[1;32m      5\u001b[0m   \u001b[0mppm\u001b[0m\u001b[0;34m.\u001b[0m\u001b[0mappend\u001b[0m\u001b[0;34m(\u001b[0m\u001b[0mrest\u001b[0m\u001b[0;34m)\u001b[0m\u001b[0;34m\u001b[0m\u001b[0m\n",
      "\u001b[0;31mNameError\u001b[0m: name 'ppmDatas' is not defined"
     ]
    }
   ],
   "source": [
    "ppm = []\n",
    "for ppmData in ppmDatas:\n",
    "  sep = ' '\n",
    "  rest = ppmData.text.split(sep, 1)[0]  \n",
    "  ppm.append(rest)\n",
    "#ppm"
   ]
  },
  {
   "cell_type": "code",
   "execution_count": 14,
   "metadata": {},
   "outputs": [
    {
     "ename": "NameError",
     "evalue": "name 'ppmNames' is not defined",
     "output_type": "error",
     "traceback": [
      "\u001b[0;31m---------------------------------------------------------------------------\u001b[0m",
      "\u001b[0;31mNameError\u001b[0m                                 Traceback (most recent call last)",
      "\u001b[0;32m<ipython-input-14-eae5d22119b4>\u001b[0m in \u001b[0;36m<module>\u001b[0;34m()\u001b[0m\n\u001b[1;32m      1\u001b[0m \u001b[0mppmCountry\u001b[0m \u001b[0;34m=\u001b[0m \u001b[0;34m[\u001b[0m\u001b[0;34m]\u001b[0m\u001b[0;34m\u001b[0m\u001b[0m\n\u001b[0;32m----> 2\u001b[0;31m \u001b[0;32mfor\u001b[0m \u001b[0mppmName\u001b[0m \u001b[0;32min\u001b[0m \u001b[0mppmNames\u001b[0m\u001b[0;34m:\u001b[0m\u001b[0;34m\u001b[0m\u001b[0m\n\u001b[0m\u001b[1;32m      3\u001b[0m   \u001b[0;31m#sep = ' '\u001b[0m\u001b[0;34m\u001b[0m\u001b[0;34m\u001b[0m\u001b[0m\n\u001b[1;32m      4\u001b[0m   \u001b[0;31m#rest = ppmName.text.split(sep, 1)[0]\u001b[0m\u001b[0;34m\u001b[0m\u001b[0;34m\u001b[0m\u001b[0m\n\u001b[1;32m      5\u001b[0m   \u001b[0mppmCountry\u001b[0m\u001b[0;34m.\u001b[0m\u001b[0mappend\u001b[0m\u001b[0;34m(\u001b[0m\u001b[0mppmName\u001b[0m\u001b[0;34m.\u001b[0m\u001b[0mtext\u001b[0m\u001b[0;34m)\u001b[0m\u001b[0;34m\u001b[0m\u001b[0m\n",
      "\u001b[0;31mNameError\u001b[0m: name 'ppmNames' is not defined"
     ]
    }
   ],
   "source": [
    "ppmCountry = []\n",
    "for ppmName in ppmNames:\n",
    "  #sep = ' '\n",
    "  #rest = ppmName.text.split(sep, 1)[0]  \n",
    "  ppmCountry.append(ppmName.text)    \n",
    "#ppmCountry"
   ]
  },
  {
   "cell_type": "code",
   "execution_count": 201,
   "metadata": {},
   "outputs": [],
   "source": [
    "ppmInfo = np.vstack((ppmCountry, ppm)).T\n",
    "ppmInfo = ppmInfo.tolist()"
   ]
  },
  {
   "cell_type": "code",
   "execution_count": 202,
   "metadata": {},
   "outputs": [],
   "source": [
    "df = pd.DataFrame(ppmInfo,columns=['By country', 'Page views per minute'])"
   ]
  },
  {
   "cell_type": "code",
   "execution_count": 204,
   "metadata": {},
   "outputs": [
    {
     "data": {
      "text/html": [
       "<div>\n",
       "<style scoped>\n",
       "    .dataframe tbody tr th:only-of-type {\n",
       "        vertical-align: middle;\n",
       "    }\n",
       "\n",
       "    .dataframe tbody tr th {\n",
       "        vertical-align: top;\n",
       "    }\n",
       "\n",
       "    .dataframe thead th {\n",
       "        text-align: right;\n",
       "    }\n",
       "</style>\n",
       "<table border=\"1\" class=\"dataframe\">\n",
       "  <thead>\n",
       "    <tr style=\"text-align: right;\">\n",
       "      <th></th>\n",
       "      <th>By country</th>\n",
       "      <th>Page views per minute</th>\n",
       "    </tr>\n",
       "  </thead>\n",
       "  <tbody>\n",
       "    <tr>\n",
       "      <th>0</th>\n",
       "      <td>GB</td>\n",
       "      <td>0.0176</td>\n",
       "    </tr>\n",
       "    <tr>\n",
       "      <th>1</th>\n",
       "      <td>US</td>\n",
       "      <td>0.011</td>\n",
       "    </tr>\n",
       "    <tr>\n",
       "      <th>2</th>\n",
       "      <td>IE</td>\n",
       "      <td>0.00347</td>\n",
       "    </tr>\n",
       "    <tr>\n",
       "      <th>3</th>\n",
       "      <td>DE</td>\n",
       "      <td>0.00288</td>\n",
       "    </tr>\n",
       "    <tr>\n",
       "      <th>4</th>\n",
       "      <td>AT</td>\n",
       "      <td>0.00278</td>\n",
       "    </tr>\n",
       "    <tr>\n",
       "      <th>5</th>\n",
       "      <td>BR</td>\n",
       "      <td>0.00198</td>\n",
       "    </tr>\n",
       "    <tr>\n",
       "      <th>6</th>\n",
       "      <td>SK</td>\n",
       "      <td>0.00169</td>\n",
       "    </tr>\n",
       "    <tr>\n",
       "      <th>7</th>\n",
       "      <td>HU</td>\n",
       "      <td>0.00139</td>\n",
       "    </tr>\n",
       "    <tr>\n",
       "      <th>8</th>\n",
       "      <td>RU</td>\n",
       "      <td>0.00129</td>\n",
       "    </tr>\n",
       "    <tr>\n",
       "      <th>9</th>\n",
       "      <td>VE</td>\n",
       "      <td>0.000794</td>\n",
       "    </tr>\n",
       "    <tr>\n",
       "      <th>10</th>\n",
       "      <td>NL</td>\n",
       "      <td>0.000496</td>\n",
       "    </tr>\n",
       "    <tr>\n",
       "      <th>11</th>\n",
       "      <td>CL</td>\n",
       "      <td>0.000397</td>\n",
       "    </tr>\n",
       "    <tr>\n",
       "      <th>12</th>\n",
       "      <td>CH</td>\n",
       "      <td>0.000298</td>\n",
       "    </tr>\n",
       "    <tr>\n",
       "      <th>13</th>\n",
       "      <td>ES</td>\n",
       "      <td>0.000298</td>\n",
       "    </tr>\n",
       "    <tr>\n",
       "      <th>14</th>\n",
       "      <td>JP</td>\n",
       "      <td>0.000198</td>\n",
       "    </tr>\n",
       "    <tr>\n",
       "      <th>15</th>\n",
       "      <td>MY</td>\n",
       "      <td>0.0000992</td>\n",
       "    </tr>\n",
       "    <tr>\n",
       "      <th>16</th>\n",
       "      <td>SE</td>\n",
       "      <td>0.0000992</td>\n",
       "    </tr>\n",
       "  </tbody>\n",
       "</table>\n",
       "</div>"
      ],
      "text/plain": [
       "   By country Page views per minute\n",
       "0          GB                0.0176\n",
       "1          US                 0.011\n",
       "2          IE               0.00347\n",
       "3          DE               0.00288\n",
       "4          AT               0.00278\n",
       "5          BR               0.00198\n",
       "6          SK               0.00169\n",
       "7          HU               0.00139\n",
       "8          RU               0.00129\n",
       "9          VE              0.000794\n",
       "10         NL              0.000496\n",
       "11         CL              0.000397\n",
       "12         CH              0.000298\n",
       "13         ES              0.000298\n",
       "14         JP              0.000198\n",
       "15         MY             0.0000992\n",
       "16         SE             0.0000992"
      ]
     },
     "execution_count": 204,
     "metadata": {},
     "output_type": "execute_result"
    }
   ],
   "source": [
    "df"
   ]
  },
  {
   "cell_type": "code",
   "execution_count": 205,
   "metadata": {},
   "outputs": [],
   "source": [
    "filename = '0816CountryView.csv'\n",
    "df.to_csv(filename, index=False)\n",
    "#os.rename(\"/Users/alexaj/LastWeekConsolidation/\" + filename, \"/Users/alexaj/LastWeekConsolidation/AJAXData/\" + filename)"
   ]
  },
  {
   "cell_type": "code",
   "execution_count": null,
   "metadata": {},
   "outputs": [],
   "source": []
  }
 ],
 "metadata": {
  "kernelspec": {
   "display_name": "Python 3",
   "language": "python",
   "name": "python3"
  },
  "language_info": {
   "codemirror_mode": {
    "name": "ipython",
    "version": 3
   },
   "file_extension": ".py",
   "mimetype": "text/x-python",
   "name": "python",
   "nbconvert_exporter": "python",
   "pygments_lexer": "ipython3",
   "version": "3.6.5"
  }
 },
 "nbformat": 4,
 "nbformat_minor": 2
}
