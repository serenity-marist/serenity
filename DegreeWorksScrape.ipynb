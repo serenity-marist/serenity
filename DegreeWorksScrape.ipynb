{
 "cells": [
  {
   "cell_type": "code",
   "execution_count": 2,
   "metadata": {},
   "outputs": [
    {
     "name": "stdout",
     "output_type": "stream",
     "text": [
      "Requirement already satisfied: selenium in /Users/AlexaJ/anaconda3/lib/python3.6/site-packages (3.14.0)\n",
      "Requirement already satisfied: urllib3 in /Users/AlexaJ/anaconda3/lib/python3.6/site-packages (from selenium) (1.22)\n",
      "\u001b[31mdistributed 1.21.8 requires msgpack, which is not installed.\u001b[0m\n",
      "\u001b[33mYou are using pip version 10.0.1, however version 18.0 is available.\n",
      "You should consider upgrading via the 'pip install --upgrade pip' command.\u001b[0m\n"
     ]
    }
   ],
   "source": [
    "!pip install selenium"
   ]
  },
  {
   "cell_type": "code",
   "execution_count": 1,
   "metadata": {},
   "outputs": [],
   "source": [
    "import pandas as pd \n",
    "import os\n",
    "import re \n",
    "import numpy as np\n",
    "\n",
    "\n",
    "from bs4 import BeautifulSoup \n",
    "from selenium import webdriver\n",
    "from selenium.webdriver.common.by import By\n",
    "from selenium.webdriver.support.ui import WebDriverWait\n",
    "from selenium.webdriver.common.keys import Keys\n",
    "from selenium.webdriver.support import expected_conditions as EC\n",
    "\n",
    "driver = webdriver.Chrome(executable_path='/Users/alexaj/anaconda3/bin/chromedriver')"
   ]
  },
  {
   "cell_type": "code",
   "execution_count": 2,
   "metadata": {},
   "outputs": [],
   "source": [
    "url = \"https://degreeworks.banner.marist.edu/dashboard/dashboard\"\n",
    "driver.get(url)"
   ]
  },
  {
   "cell_type": "code",
   "execution_count": 3,
   "metadata": {},
   "outputs": [],
   "source": [
    "#driver.implicitly_wait(5)\n",
    "contFrame = driver.find_element_by_css_selector('html > frameset > frame:nth-child(4)')\n",
    "driver.switch_to.frame(contFrame)\n",
    "#frBC = driver.find_element_by_xpath('/html/frameset')\n",
    "bodyFrame = driver.find_element_by_name('frBody')\n",
    "driver.switch_to.frame(bodyFrame)"
   ]
  },
  {
   "cell_type": "code",
   "execution_count": 4,
   "metadata": {},
   "outputs": [],
   "source": [
    "html = driver.page_source\n",
    "soup = BeautifulSoup(html, \"html5lib\")"
   ]
  },
  {
   "cell_type": "code",
   "execution_count": 5,
   "metadata": {},
   "outputs": [],
   "source": [
    "#taking majors titles, minor titles, pathway\n",
    "headTitles = soup.find_all(\"td\", attrs={\"class\": \"BlockHeadTitle\"})\n",
    "headTitle = []\n",
    "for head in headTitles:\n",
    "    headTitle.append(head.text)\n",
    "\n",
    "majorArray = [x for x in headTitle if 'Major' in x]\n",
    "concentrations = [x for x in headTitle if 'Concentration' in x]\n",
    "minorArray = [x for x in headTitle if 'Minor' in x]\n",
    "degreeName = [x for x in headTitle if 'Degree' in x]\n",
    "pwayName = [x for x in headTitle if 'Pathway' in x][0]"
   ]
  },
  {
   "cell_type": "code",
   "execution_count": 6,
   "metadata": {},
   "outputs": [
    {
     "data": {
      "text/plain": [
       "['Degree in Bachelor of Science',\n",
       " 'Major in Computer Science',\n",
       " 'Concentration in Software Development',\n",
       " 'Minor in Math']"
      ]
     },
     "execution_count": 6,
     "metadata": {},
     "output_type": "execute_result"
    }
   ],
   "source": [
    "#check the above variables\n",
    "creditTitles = []\n",
    "creditTitles = degreeName + majorArray + concentrations + minorArray \n",
    "creditTitles"
   ]
  },
  {
   "cell_type": "code",
   "execution_count": 8,
   "metadata": {},
   "outputs": [
    {
     "data": {
      "text/plain": [
       "'[{\"Core Requirement\":\"3 credits Ethics\\\\/Applied Ethics\\\\/Religious Studies\"}]'"
      ]
     },
     "execution_count": 8,
     "metadata": {},
     "output_type": "execute_result"
    }
   ],
   "source": [
    "#code for required courses \n",
    "jsonObjects = []\n",
    "\n",
    "def req(soup):\n",
    "    reqStrings = soup.find_all(\"td\", attrs={\"class\": \"RuleLabelTitleNeeded\"})\n",
    "\n",
    "    reqCourses = []\n",
    "    for reqString in reqStrings:\n",
    "        reqCourses.append(reqString.text)\n",
    "\n",
    "    coreReqs = [x for x in reqCourses if '3 credits' in x]\n",
    "    #coreReqs\n",
    "    coreReqDf = pd.DataFrame(coreReqs)\n",
    "    coreReqDf.columns = ['Core Requirement']\n",
    "\n",
    "    # coreReqFileJSON = 'SerenityCoreReqs.json'\n",
    "    coreJSON = coreReqDf.to_json(orient='records')\n",
    "    return coreJSON\n",
    "\n",
    "# jsonObjects.append(req(soup))\n",
    "# jsonObjects\n",
    "req(soup)"
   ]
  },
  {
   "cell_type": "code",
   "execution_count": 182,
   "metadata": {},
   "outputs": [],
   "source": [
    "#HONORS! Special case \n",
    "# css selector for honors frame : frmAudit > table:nth-child(38) > tbody > tr > td > table"
   ]
  },
  {
   "cell_type": "code",
   "execution_count": null,
   "metadata": {},
   "outputs": [],
   "source": [
    "pathwayClassesDri = driver.find_element_by_css_selector('#frmAudit > table:nth-child(28) > tbody > tr > td > table > tbody > tr:nth-child(5) > td.RuleLabelData > table')\n",
    "pathwaySoup = BeautifulSoup(pathwayClassesDri.get_attribute('innerHTML'), \"html5lib\")\n",
    "\n",
    "pathwayTable = pathwaySoup.find_all('table')[0]\n",
    "pathwayDf = pd.read_html(str(pathwayTable))[0]\n",
    "pathwayDf.columns = ['Course No', 'Course Title', 'Grade', 'Credits', 'Semester']\n",
    "pathwayDf\n",
    "\n",
    "# pathwayFileJSON = 'SerenityPathway.json'\n",
    "# pathwayDf.to_json(pathwayFileJSON, orient=\"records\")\n",
    "# pathwayFileCSV = 'SerenityPathway.csv'\n",
    "# pathwayDf.to_json(pathwayFileCSV, index=False)"
   ]
  },
  {
   "cell_type": "code",
   "execution_count": null,
   "metadata": {},
   "outputs": [],
   "source": []
  },
  {
   "cell_type": "code",
   "execution_count": 49,
   "metadata": {},
   "outputs": [
    {
     "data": {
      "text/plain": [
       "'{\"Student\": \"Javellana, Alexa\", \"ID\": \"20068940\", \"Classification\": \"Junior\", \"Advisor\": \"Cannistra, Robert M\", \"Overall GPA\": \"3.476\", \"Student Type\": \"Traditional Continuing\", \"Term Location\": \"Poughkeepsie\", \"Level\": \"Undergraduate\", \"Degree\": \"B.S.\", \"College\": \"Computer Science & Mathematics\", \"Major\": \"Computer Science\", \"Minor\": \"Math\", \"Concentration\": \"CompSci: Software Development\", \"NaN\": NaN}'"
      ]
     },
     "execution_count": 49,
     "metadata": {},
     "output_type": "execute_result"
    }
   ],
   "source": [
    "#Code for scraped data from Student View information\n",
    "studentTable = soup.find(\"table\", attrs={\"class\": \"Inner\"})\n",
    "\n",
    "studentInfoDf = pd.read_html(str(studentTable))[0]\n",
    "\n",
    "primValue = list(studentInfoDf[0])\n",
    "primInfo = list(studentInfoDf[1])\n",
    "secondColumn = list(studentInfoDf[2])\n",
    "thirdColumn = list(studentInfoDf[3])\n",
    "\n",
    "finalValue = primValue + secondColumn\n",
    "finalInfo = primInfo + thirdColumn\n",
    "\n",
    "studentDict = dict(zip(finalValue, finalInfo))\n",
    "\n",
    "# studentInfoFinalDf = pd.DataFrame.from_dict(studentDict, orient='columns')\n",
    "\n",
    "# studentInfoFileJSON = 'SerenityStudentInfo.json'\n",
    "# studentInfoFinalDf.to_json(studentInfoFileJSON, orient='records')\n",
    "import json\n",
    "studentJSONStr = json.dumps(studentDict)\n",
    "studentJSONStr"
   ]
  },
  {
   "cell_type": "code",
   "execution_count": 32,
   "metadata": {},
   "outputs": [
    {
     "data": {
      "text/plain": [
       "'Fall 2018'"
      ]
     },
     "execution_count": 32,
     "metadata": {},
     "output_type": "execute_result"
    }
   ],
   "source": [
    "semYear = datetime.date.today().year\n",
    "semMonth = datetime.date.today().month\n",
    "semSsn = \"\"\n",
    "\n",
    "if (semMonth >= 1 and semMonth <= 5):\n",
    "  semSsn = \"Spring\"\n",
    "elif (semMonth >= 6 and semMonth <= 8):\n",
    "  semSsn = \"Summer\"\n",
    "elif (semMonth >= 9 and semMonth <= 12):\n",
    "  semSsn = \"Fall\"\n",
    "elif (semMonth == 1):\n",
    "  semSsn = \"Winter\"\n",
    "\n",
    "semSsn + \" \" + str(semYear)"
   ]
  },
  {
   "cell_type": "code",
   "execution_count": 87,
   "metadata": {},
   "outputs": [
    {
     "data": {
      "text/html": [
       "<div>\n",
       "<style scoped>\n",
       "    .dataframe tbody tr th:only-of-type {\n",
       "        vertical-align: middle;\n",
       "    }\n",
       "\n",
       "    .dataframe tbody tr th {\n",
       "        vertical-align: top;\n",
       "    }\n",
       "\n",
       "    .dataframe thead th {\n",
       "        text-align: right;\n",
       "    }\n",
       "</style>\n",
       "<table border=\"1\" class=\"dataframe\">\n",
       "  <thead>\n",
       "    <tr style=\"text-align: right;\">\n",
       "      <th></th>\n",
       "      <th>Course No</th>\n",
       "      <th>Course Title</th>\n",
       "      <th>Credit Value</th>\n",
       "    </tr>\n",
       "  </thead>\n",
       "  <tbody>\n",
       "    <tr>\n",
       "      <th>0</th>\n",
       "      <td>CMPT 105N</td>\n",
       "      <td>MS EXCEL</td>\n",
       "      <td>1</td>\n",
       "    </tr>\n",
       "    <tr>\n",
       "      <th>1</th>\n",
       "      <td>CMPT 410N</td>\n",
       "      <td>SYSTEMS ADMINST-MGTMNT</td>\n",
       "      <td>4</td>\n",
       "    </tr>\n",
       "    <tr>\n",
       "      <th>2</th>\n",
       "      <td>CMPT 430L</td>\n",
       "      <td>TECHNOLOGY+ENTREPRENEURSHIP</td>\n",
       "      <td>3</td>\n",
       "    </tr>\n",
       "    <tr>\n",
       "      <th>3</th>\n",
       "      <td>CMPT 475N</td>\n",
       "      <td>CS PROJECT</td>\n",
       "      <td>3</td>\n",
       "    </tr>\n",
       "    <tr>\n",
       "      <th>4</th>\n",
       "      <td>CMPT 476N</td>\n",
       "      <td>CS PROJECT II</td>\n",
       "      <td>1</td>\n",
       "    </tr>\n",
       "    <tr>\n",
       "      <th>5</th>\n",
       "      <td>MATH 130L</td>\n",
       "      <td>INTRO-STATIST I</td>\n",
       "      <td>3</td>\n",
       "    </tr>\n",
       "    <tr>\n",
       "      <th>6</th>\n",
       "      <td>PHED 132N</td>\n",
       "      <td>BOXING</td>\n",
       "      <td>1</td>\n",
       "    </tr>\n",
       "  </tbody>\n",
       "</table>\n",
       "</div>"
      ],
      "text/plain": [
       "   Course No                 Course Title Credit Value\n",
       "0  CMPT 105N                     MS EXCEL            1\n",
       "1  CMPT 410N       SYSTEMS ADMINST-MGTMNT            4\n",
       "2  CMPT 430L  TECHNOLOGY+ENTREPRENEURSHIP            3\n",
       "3  CMPT 475N                   CS PROJECT            3\n",
       "4  CMPT 476N                CS PROJECT II            1\n",
       "5  MATH 130L              INTRO-STATIST I            3\n",
       "6  PHED 132N                       BOXING            1"
      ]
     },
     "execution_count": 87,
     "metadata": {},
     "output_type": "execute_result"
    }
   ],
   "source": [
    "currClassHTML = soup.find_all(\"table\", attrs={\"class\": \"xBlocks\"})\n",
    "\n",
    "if(len(currClassHTML) > 2):\n",
    "    currClassHTML = currClassHTML[2]\n",
    "else:\n",
    "    currClassHTML = currClassHTML[1]\n",
    "\n",
    "# currClassHTML\n",
    "#classNames\n",
    "\n",
    "className = currClassHTML.find_all(\"td\", attrs={\"class\": \"SectionCourseTitle\"})\n",
    "classNames = []\n",
    "\n",
    "for classes in className:\n",
    "    classNames.append(classes.text)\n",
    "    \n",
    "#classNumbers\n",
    "\n",
    "classNo = currClassHTML.find_all(\"td\", attrs={\"class\": \"ClassesAppliedClasses\"})\n",
    "classNos = []\n",
    "\n",
    "for no in classNo:\n",
    "    no = no.text.replace(u'\\xa0', u' ')\n",
    "    classNos.append(no)\n",
    "\n",
    "#creditsEach\n",
    "\n",
    "noCredits = currClassHTML.find_all(\"td\", attrs={\"class\": \"SectionCourseCredits\"})\n",
    "curCredits = []\n",
    "\n",
    "for noCreds in noCredits:\n",
    "    curCredits.append(noCreds.text)\n",
    "    \n",
    "# curCredits\n",
    "currClassDataStack = np.vstack((classNos, classNames, curCredits)).T\n",
    "currClassDataStack = currClassDataStack.tolist()\n",
    "\n",
    "currClassInfoDf = pd.DataFrame(currClassDataStack,columns=['Course No', 'Course Title', 'Credit Value'])\n",
    "# currClassFileCSV = 'SerenityCurrClass.csv'\n",
    "# currClassInfoDf.to_csv(currClassFileCSV, index=False)\n",
    "\n",
    "# studentInfoFileJSON = 'SerenityStudentInfo.json'\n",
    "# studentView.to_json(studentInfoFileJSON)\n",
    "currClassInfoDf"
   ]
  },
  {
   "cell_type": "code",
   "execution_count": 20,
   "metadata": {},
   "outputs": [],
   "source": [
    "# currClassesDri = driver.find_element_by_css_selector('#frmAudit > table:nth-child(67)')\n",
    "# currClassSoup = BeautifulSoup(currClassesDri.get_attribute('innerHTML'), \"html5lib\")\n",
    "\n",
    "currClassDataStack = np.vstack((classNos, classNames, curCredits)).T\n",
    "currClassDataStack = currClassDataStack.tolist()\n",
    "\n",
    "currClassInfoDf = pd.DataFrame(currClassDataStack,columns=['Course No', 'Course Title', 'Credit Value'])\n",
    "# currClassFileCSV = 'SerenityCurrClass.csv'\n",
    "# currClassInfoDf.to_csv(currClassFileCSV, index=False)\n",
    "\n",
    "# studentInfoFileJSON = 'SerenityStudentInfo.json'\n",
    "# studentView.to_json(studentInfoFileJSON)"
   ]
  },
  {
   "cell_type": "code",
   "execution_count": 88,
   "metadata": {},
   "outputs": [
    {
     "data": {
      "text/html": [
       "<div>\n",
       "<style scoped>\n",
       "    .dataframe tbody tr th:only-of-type {\n",
       "        vertical-align: middle;\n",
       "    }\n",
       "\n",
       "    .dataframe tbody tr th {\n",
       "        vertical-align: top;\n",
       "    }\n",
       "\n",
       "    .dataframe thead th {\n",
       "        text-align: right;\n",
       "    }\n",
       "</style>\n",
       "<table border=\"1\" class=\"dataframe\">\n",
       "  <thead>\n",
       "    <tr style=\"text-align: right;\">\n",
       "      <th></th>\n",
       "      <th>Title</th>\n",
       "      <th>Credits Completed</th>\n",
       "      <th>Total Needed</th>\n",
       "    </tr>\n",
       "  </thead>\n",
       "  <tbody>\n",
       "    <tr>\n",
       "      <th>0</th>\n",
       "      <td>Degree in Bachelor of Science</td>\n",
       "      <td>88</td>\n",
       "      <td>120</td>\n",
       "    </tr>\n",
       "    <tr>\n",
       "      <th>1</th>\n",
       "      <td>Major in Information Technology and Systems</td>\n",
       "      <td>67</td>\n",
       "      <td>73</td>\n",
       "    </tr>\n",
       "    <tr>\n",
       "      <th>2</th>\n",
       "      <td>Concentration:  Information Technology</td>\n",
       "      <td>18</td>\n",
       "      <td>20</td>\n",
       "    </tr>\n",
       "    <tr>\n",
       "      <th>3</th>\n",
       "      <td>Minor in Computer Science</td>\n",
       "      <td>24</td>\n",
       "      <td>22</td>\n",
       "    </tr>\n",
       "    <tr>\n",
       "      <th>4</th>\n",
       "      <td>Minor in Cybersecurity</td>\n",
       "      <td>15</td>\n",
       "      <td>23</td>\n",
       "    </tr>\n",
       "    <tr>\n",
       "      <th>5</th>\n",
       "      <td>Minor in Information Systems</td>\n",
       "      <td>23</td>\n",
       "      <td>23</td>\n",
       "    </tr>\n",
       "  </tbody>\n",
       "</table>\n",
       "</div>"
      ],
      "text/plain": [
       "                                         Title Credits Completed Total Needed\n",
       "0                Degree in Bachelor of Science                88          120\n",
       "1  Major in Information Technology and Systems                67           73\n",
       "2       Concentration:  Information Technology                18           20\n",
       "3                    Minor in Computer Science                24           22\n",
       "4                       Minor in Cybersecurity                15           23\n",
       "5                 Minor in Information Systems                23           23"
      ]
     },
     "execution_count": 88,
     "metadata": {},
     "output_type": "execute_result"
    }
   ],
   "source": [
    "#This code parses the data on DegreeWorks by td class, BlockHeadSubd\n",
    "#Code parses credits into total and completed arrays\n",
    "subData = soup.find_all(\"td\", attrs={\"class\": \"BlockHeadSubData\"})\n",
    "#dataNP = array of subData that is not parsed, but converted from obj to str\n",
    "subDataNP = []\n",
    "for subD in subData:\n",
    "    subDataNP.append(subD.text)\n",
    "    #objToText\n",
    "\n",
    "#dataP = array subData that is/will be parsed\n",
    "subDataP = []\n",
    "for subDataN in subDataNP:\n",
    "    string = subDataN.split(\"\\xa0 \",1)[1]\n",
    "    if string:\n",
    "        subDataP.append(string)\n",
    "\n",
    "    \n",
    "credits = []\n",
    "\n",
    "for subData in subDataP:\n",
    "    if not any(s in subData for s in ('-', '.')):\n",
    "        credits.append(subData)\n",
    "\n",
    "    \n",
    "creditTitles = []\n",
    "creditTitles = degreeName + majorArray + concentrations + minorArray \n",
    "if (len(creditTitles) * 2 != len(credits)):\n",
    "    creditTitles = degreeName + concentrations + minorArray \n",
    "        \n",
    "        \n",
    "totalCredits = []\n",
    "completedCredits = []\n",
    "i = 0\n",
    "while i < len(credits):\n",
    "    if i % 2 == 0:\n",
    "        totalCredits.append(credits[i])\n",
    "        i += 1\n",
    "    else:\n",
    "        completedCredits.append(credits[i])\n",
    "        i += 1\n",
    "        \n",
    "creditsProgress = np.vstack((creditTitles, completedCredits, totalCredits)).T\n",
    "creditsProgress = creditsProgress.tolist()\n",
    "progressDf = pd.DataFrame(creditsProgress,columns=['Title', 'Credits Completed', 'Total Needed'])\n",
    "progressDf"
   ]
  },
  {
   "cell_type": "code",
   "execution_count": 282,
   "metadata": {},
   "outputs": [
    {
     "data": {
      "text/plain": [
       "['120', '88', '73', '67', '20', '18', '22', '24', '23', '15', '23', '23']"
      ]
     },
     "execution_count": 282,
     "metadata": {},
     "output_type": "execute_result"
    }
   ],
   "source": [
    "credits"
   ]
  },
  {
   "cell_type": "code",
   "execution_count": 170,
   "metadata": {},
   "outputs": [],
   "source": [
    "#credit progress data dictionary JSON\n",
    "majMinFileJSON = 'SerenityMajMin.json'\n",
    "progressDf.to_json(majMinFileJSON, orient='records')"
   ]
  },
  {
   "cell_type": "code",
   "execution_count": 201,
   "metadata": {},
   "outputs": [],
   "source": [
    "ppmInfo = np.vstack((ppmCountry, ppm)).T\n",
    "ppmInfo = ppmInfo.tolist()"
   ]
  },
  {
   "cell_type": "code",
   "execution_count": 202,
   "metadata": {},
   "outputs": [],
   "source": [
    "df = pd.DataFrame(ppmInfo,columns=['By country', 'Page views per minute'])"
   ]
  },
  {
   "cell_type": "code",
   "execution_count": 204,
   "metadata": {},
   "outputs": [
    {
     "data": {
      "text/html": [
       "<div>\n",
       "<style scoped>\n",
       "    .dataframe tbody tr th:only-of-type {\n",
       "        vertical-align: middle;\n",
       "    }\n",
       "\n",
       "    .dataframe tbody tr th {\n",
       "        vertical-align: top;\n",
       "    }\n",
       "\n",
       "    .dataframe thead th {\n",
       "        text-align: right;\n",
       "    }\n",
       "</style>\n",
       "<table border=\"1\" class=\"dataframe\">\n",
       "  <thead>\n",
       "    <tr style=\"text-align: right;\">\n",
       "      <th></th>\n",
       "      <th>By country</th>\n",
       "      <th>Page views per minute</th>\n",
       "    </tr>\n",
       "  </thead>\n",
       "  <tbody>\n",
       "    <tr>\n",
       "      <th>0</th>\n",
       "      <td>GB</td>\n",
       "      <td>0.0176</td>\n",
       "    </tr>\n",
       "    <tr>\n",
       "      <th>1</th>\n",
       "      <td>US</td>\n",
       "      <td>0.011</td>\n",
       "    </tr>\n",
       "    <tr>\n",
       "      <th>2</th>\n",
       "      <td>IE</td>\n",
       "      <td>0.00347</td>\n",
       "    </tr>\n",
       "    <tr>\n",
       "      <th>3</th>\n",
       "      <td>DE</td>\n",
       "      <td>0.00288</td>\n",
       "    </tr>\n",
       "    <tr>\n",
       "      <th>4</th>\n",
       "      <td>AT</td>\n",
       "      <td>0.00278</td>\n",
       "    </tr>\n",
       "    <tr>\n",
       "      <th>5</th>\n",
       "      <td>BR</td>\n",
       "      <td>0.00198</td>\n",
       "    </tr>\n",
       "    <tr>\n",
       "      <th>6</th>\n",
       "      <td>SK</td>\n",
       "      <td>0.00169</td>\n",
       "    </tr>\n",
       "    <tr>\n",
       "      <th>7</th>\n",
       "      <td>HU</td>\n",
       "      <td>0.00139</td>\n",
       "    </tr>\n",
       "    <tr>\n",
       "      <th>8</th>\n",
       "      <td>RU</td>\n",
       "      <td>0.00129</td>\n",
       "    </tr>\n",
       "    <tr>\n",
       "      <th>9</th>\n",
       "      <td>VE</td>\n",
       "      <td>0.000794</td>\n",
       "    </tr>\n",
       "    <tr>\n",
       "      <th>10</th>\n",
       "      <td>NL</td>\n",
       "      <td>0.000496</td>\n",
       "    </tr>\n",
       "    <tr>\n",
       "      <th>11</th>\n",
       "      <td>CL</td>\n",
       "      <td>0.000397</td>\n",
       "    </tr>\n",
       "    <tr>\n",
       "      <th>12</th>\n",
       "      <td>CH</td>\n",
       "      <td>0.000298</td>\n",
       "    </tr>\n",
       "    <tr>\n",
       "      <th>13</th>\n",
       "      <td>ES</td>\n",
       "      <td>0.000298</td>\n",
       "    </tr>\n",
       "    <tr>\n",
       "      <th>14</th>\n",
       "      <td>JP</td>\n",
       "      <td>0.000198</td>\n",
       "    </tr>\n",
       "    <tr>\n",
       "      <th>15</th>\n",
       "      <td>MY</td>\n",
       "      <td>0.0000992</td>\n",
       "    </tr>\n",
       "    <tr>\n",
       "      <th>16</th>\n",
       "      <td>SE</td>\n",
       "      <td>0.0000992</td>\n",
       "    </tr>\n",
       "  </tbody>\n",
       "</table>\n",
       "</div>"
      ],
      "text/plain": [
       "   By country Page views per minute\n",
       "0          GB                0.0176\n",
       "1          US                 0.011\n",
       "2          IE               0.00347\n",
       "3          DE               0.00288\n",
       "4          AT               0.00278\n",
       "5          BR               0.00198\n",
       "6          SK               0.00169\n",
       "7          HU               0.00139\n",
       "8          RU               0.00129\n",
       "9          VE              0.000794\n",
       "10         NL              0.000496\n",
       "11         CL              0.000397\n",
       "12         CH              0.000298\n",
       "13         ES              0.000298\n",
       "14         JP              0.000198\n",
       "15         MY             0.0000992\n",
       "16         SE             0.0000992"
      ]
     },
     "execution_count": 204,
     "metadata": {},
     "output_type": "execute_result"
    }
   ],
   "source": [
    "df"
   ]
  }
 ],
 "metadata": {
  "kernelspec": {
   "display_name": "Python 3",
   "language": "python",
   "name": "python3"
  },
  "language_info": {
   "codemirror_mode": {
    "name": "ipython",
    "version": 3
   },
   "file_extension": ".py",
   "mimetype": "text/x-python",
   "name": "python",
   "nbconvert_exporter": "python",
   "pygments_lexer": "ipython3",
   "version": "3.6.5"
  }
 },
 "nbformat": 4,
 "nbformat_minor": 2
}
